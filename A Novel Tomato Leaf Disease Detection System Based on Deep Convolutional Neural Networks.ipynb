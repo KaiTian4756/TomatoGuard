{
 "cells": [
  {
   "cell_type": "markdown",
   "metadata": {},
   "source": [
    "# Dependence:\n",
    "- tensorflow-gpu 1.11\n",
    "- keras 2.2.4"
   ]
  },
  {
   "cell_type": "markdown",
   "metadata": {},
   "source": [
    "# Training"
   ]
  },
  {
   "cell_type": "code",
   "execution_count": 5,
   "metadata": {},
   "outputs": [
    {
     "name": "stdout",
     "output_type": "stream",
     "text": [
      "test dir is:./data/my_crop/Tomato___Bacterial_spot\n",
      "(34, 224, 224, 3)\n",
      "test dir is:./data/my_crop/Tomato___Early_blight\n",
      "(61, 224, 224, 3)\n",
      "test dir is:./data/my_crop/Tomato___healthy\n",
      "(82, 224, 224, 3)\n",
      "test dir is:./data/my_crop/Tomato___Late_blight\n",
      "(63, 224, 224, 3)\n",
      "test dir is:./data/my_crop/Tomato___Leaf_Mold\n",
      "(57, 224, 224, 3)\n",
      "test dir is:./data/my_crop/Tomato___Septoria_leaf_spot\n",
      "(51, 224, 224, 3)\n",
      "test dir is:./data/my_crop/Tomato___Spider_mites Two-spotted_spider_mite\n",
      "(18, 224, 224, 3)\n",
      "test dir is:./data/my_crop/Tomato___Target_Spot\n",
      "(11, 224, 224, 3)\n",
      "test dir is:./data/my_crop/Tomato___Tomato_mosaic_virus\n",
      "(111, 224, 224, 3)\n",
      "test dir is:./data/my_crop/Tomato___Tomato_Yellow_Leaf_Curl_Virus\n",
      "(112, 224, 224, 3)\n"
     ]
    }
   ],
   "source": [
    "import os\n",
    "import numpy as np\n",
    "import glob\n",
    "import cv2\n",
    "\n",
    "from keras.preprocessing.image import ImageDataGenerator, array_to_img, img_to_array, load_img\n",
    "\n",
    "datagen = ImageDataGenerator( rotation_range=90,\n",
    "                              brightness_range=[0.1,0.8],\n",
    "                             width_shift_range=0.2,\n",
    "                             height_shift_range=0.2,\n",
    "#                              shear_range=0.2,\n",
    "                             zoom_range=0.2,\n",
    "                             horizontal_flip=True,\n",
    "                             fill_mode='constant',cval=255,                     \n",
    "#                              rescale=1./255,\n",
    "#                              channel_shift_range=0.2,\n",
    "                             vertical_flip=True)\n",
    "\n",
    "def imagepreprocessing(I):\n",
    "    image = load_img(I).resize([224,224])\n",
    "    image = img_to_array(image)  \n",
    "    I = image\n",
    "#     I = image/255\n",
    "    return I\n",
    "\n",
    "testdir = './data/my_crop/'\n",
    "len([lists for lists in os.listdir(testdir) if os.path.isfile(os.path.join(testdir, lists))])\n",
    "\n",
    "for parent,dirnames,filenames in os.walk(testdir): \n",
    "    for dirname in dirnames:     \n",
    "        test_dir = parent+dirname\n",
    "        print(\"test dir is:\" +test_dir)\n",
    "        imagenum = len([lists for lists in os.listdir(test_dir) if os.path.isfile(os.path.join(test_dir, lists))])\n",
    "\n",
    "        i = 0\n",
    "        testimage = np.zeros(shape=(imagenum,224,224,3))\n",
    "\n",
    "        for img_name in glob.glob(test_dir+'/*.jpg'):\n",
    "            testimage[i,:,:,:] =  imagepreprocessing(img_name)\n",
    "            i +=1  \n",
    "        print(testimage.shape)\n",
    "\n",
    "        i = 0\n",
    "        save_path = './data/my_crop_aug/'+dirname\n",
    "        \n",
    "        if os.path.isdir(save_path): \n",
    "            pass\n",
    "        else:\n",
    "            os.makedirs(save_path) \n",
    "\n",
    "        for batch in datagen.flow(testimage, \n",
    "                                  batch_size=32,\n",
    "                                  save_to_dir=save_path,  \n",
    "                                  save_format='jpg'):\n",
    "            i +=1\n",
    "            if i ==(np.ceil(imagenum/32)*10):\n",
    "                break "
   ]
  },
  {
   "cell_type": "code",
   "execution_count": null,
   "metadata": {},
   "outputs": [],
   "source": [
    "import keras.layers as layers\n",
    "from keras.preprocessing.image import ImageDataGenerator\n",
    "from keras.models import Model\n",
    "from keras.layers import Dropout, Dense,Input\n",
    "from keras import applications,optimizers\n",
    "from keras.callbacks import TensorBoard,EarlyStopping,ModelCheckpoint\n",
    "\n",
    "model = applications.InceptionV3(include_top=False, weights='imagenet')\n",
    "# model = applications.VGG16(include_top=False, weights='imagenet')\n",
    "imagesize =224\n",
    "\n",
    "input = layers.Input(shape=(imagesize,imagesize,3),name='image_input')\n",
    "\n",
    "x = layers.GlobalMaxPooling2D()(model(input))\n",
    "x = layers.Dense(256)(x)\n",
    "x = layers.BatchNormalization()(x)\n",
    "x = layers.Activation('relu')(x)\n",
    "x = layers.Dense(128)(x)\n",
    "x = layers.BatchNormalization()(x)\n",
    "x = layers.Activation('relu')(x)\n",
    "x = layers.Dense(64)(x)\n",
    "x = layers.BatchNormalization()(x)\n",
    "x = layers.Activation('relu')(x)\n",
    "x = layers.Dropout(0.5)(x)\n",
    "x = layers.Dense(10)(x)\n",
    "x = layers.BatchNormalization()(x)\n",
    "x = layers.Activation('softmax',name='pred')(x) \n",
    "\n",
    "model = Model(inputs = input, outputs= x)\n",
    "# model.summary()\n",
    "\n",
    "\n",
    "train_data_dir = './data/train/'\n",
    "\n",
    "BATCH_SIZE =24\n",
    "datagen = ImageDataGenerator(  rescale=1. / 255,\n",
    "                             brightness_range=[0.1,0.8],\n",
    "                             channel_shift_range=0.5,\n",
    "                             horizontal_flip=True,\n",
    "                             vertical_flip=True,\n",
    "                             validation_split=0.1,\n",
    "                             rotation_range=0.2,\n",
    "                             width_shift_range=[-30,30],\n",
    "                             height_shift_range=[-30,30],                               \n",
    "                             zoom_range=0.2\n",
    "                            )\n",
    "train_generator = datagen.flow_from_directory(directory=train_data_dir,\n",
    "                                        target_size=(imagesize,imagesize), \n",
    "                                        batch_size=BATCH_SIZE,   \n",
    "                                        class_mode='categorical',  \n",
    "                                        shuffle=True,\n",
    "                                        subset='training')\n",
    "validation_generator = datagen.flow_from_directory(directory=train_data_dir,\n",
    "                                        target_size=(imagesize,imagesize), \n",
    "                                        batch_size=BATCH_SIZE,   \n",
    "                                        class_mode='categorical',  \n",
    "                                        shuffle=True,\n",
    "                                        subset='validation')\n",
    "# print(train_generator.class_indices)\n",
    "\n",
    "sgd = optimizers.SGD(lr=0.001, decay=1e-6, momentum=0.9, nesterov=True)\n",
    "model.compile(optimizer=sgd, loss='categorical_crossentropy', metrics=['acc'])\n",
    "\n",
    "callbacks = [\n",
    "    ModelCheckpoint(filepath=\"./model/10Inception_1117.h5\", verbose=1, save_best_only=True),\n",
    "    TensorBoard(log_dir=\"./log/10Inception_1117\"),\n",
    "]\n",
    "\n",
    "model.fit_generator(generator=train_generator,\n",
    "                    steps_per_epoch=len(train_generator),\n",
    "                    validation_steps=len(validation_generator),\n",
    "                    validation_data=validation_generator,\n",
    "                    epochs=50,\n",
    "                    shuffle=True,\n",
    "                    callbacks=callbacks)"
   ]
  },
  {
   "cell_type": "markdown",
   "metadata": {},
   "source": [
    "# Test and  Confusion matrix"
   ]
  },
  {
   "cell_type": "code",
   "execution_count": 2,
   "metadata": {
    "scrolled": false
   },
   "outputs": [
    {
     "name": "stdout",
     "output_type": "stream",
     "text": [
      "Found 2169 images belonging to 10 classes.\n",
      "91/91 [==============================] - 19s 210ms/step\n",
      "91/91 [==============================] - 31s 339ms/step\n",
      "[0.1641106806144139, 0.956662054708225]\n",
      "[0.21424702287266445, 0.9423697514982474]\n"
     ]
    }
   ],
   "source": [
    "from keras.models import load_model\n",
    "from keras.preprocessing.image import ImageDataGenerator\n",
    "from keras import optimizers\n",
    "inception_model = load_model('./model/Inception_0401.h5')\n",
    "vgg_model = load_model('./model/VGG16_0401.h5')\n",
    "test_data_dir = './data/test/'\n",
    "\n",
    "imagesize = 224\n",
    "BATCH_SIZE = 24\n",
    "\n",
    "datagen = ImageDataGenerator(rescale=1. / 255)\n",
    "test_generator = datagen.flow_from_directory(directory=test_data_dir,\n",
    "                                             shuffle=False,\n",
    "                                             target_size=(imagesize, imagesize), \n",
    "                                             batch_size=BATCH_SIZE    )\n",
    "\n",
    "\n",
    "ince_re= inception_model.evaluate_generator(test_generator,steps=len(test_generator),verbose=1)\n",
    "vgg_re= vgg_model.evaluate_generator(test_generator,steps=len(test_generator),verbose=1)\n",
    "print(ince_re)\n",
    "print(vgg_re)"
   ]
  },
  {
   "cell_type": "code",
   "execution_count": 4,
   "metadata": {},
   "outputs": [
    {
     "name": "stdout",
     "output_type": "stream",
     "text": [
      "Found 2169 images belonging to 10 classes.\n",
      "91/91 [==============================] - 13s 141ms/step\n"
     ]
    }
   ],
   "source": [
    "from matplotlib  import pyplot as plt\n",
    "import itertools\n",
    "from sklearn.metrics import  confusion_matrix\n",
    "import numpy as np\n",
    "test_generator = datagen.flow_from_directory(directory=test_data_dir,\n",
    "                                             shuffle=False,\n",
    "                                             target_size=(imagesize, imagesize), \n",
    "                                             batch_size=BATCH_SIZE    )\n",
    "pred = model.predict_generator(test_generator,verbose=1,steps=len(test_generator))\n",
    "pred_lable = np.argmax(pred, axis=1)\n",
    "cnf_matrix = confusion_matrix(test_generator.classes,pred_lable)"
   ]
  },
  {
   "cell_type": "code",
   "execution_count": 5,
   "metadata": {},
   "outputs": [
    {
     "data": {
      "image/png": "[encoded data removed]",
      "text/plain": [
       "<Figure size 720x720 with 2 Axes>"
      ]
     },
     "metadata": {
      "needs_background": "light"
     },
     "output_type": "display_data"
    }
   ],
   "source": [
    "label = list(set(test_generator.classes))\n",
    "classes = ['TBS',  'TEB',  'TLB', 'TLM',  'TSl', 'TSM',  'TTS',  'TYLCV','TMV', 'TH' ]\n",
    "a = classes\n",
    "# a = []\n",
    "# for i in label:\n",
    "#     a.append(classes[i])\n",
    "    \n",
    "plt.figure(figsize=(10,10))   \n",
    "plt.imshow(cnf_matrix,  cmap=plt.cm.Blues)\n",
    "plt.title('Confusion matrix')\n",
    "plt.colorbar()\n",
    "tick_marks =  np.arange(len(a))\n",
    "plt.xticks(tick_marks, a, )\n",
    "plt.yticks(tick_marks, a)\n",
    "\n",
    "thresh = cnf_matrix.max() / 2.\n",
    "for i, j in itertools.product(range(cnf_matrix.shape[0]), range(cnf_matrix.shape[1])):\n",
    "    if cnf_matrix[i,j] ==0:\n",
    "        text1 = cnf_matrix[i,j]\n",
    "        fmt = 'd'\n",
    "#         text1 = 'N'\n",
    "#         fmt = 's'\n",
    "         \n",
    "    else:\n",
    "        text1 = cnf_matrix[i,j]\n",
    "        fmt = 'd'\n",
    "    plt.text(j, i, format(text1, fmt),\n",
    "             horizontalalignment=\"center\",\n",
    "             color=\"white\" if cnf_matrix[i, j] > thresh else \"black\")\n",
    "\n",
    "plt.ylabel('True label')\n",
    "plt.xlabel('Predicted label')\n",
    "plt.tight_layout()"
   ]
  },
  {
   "cell_type": "code",
   "execution_count": null,
   "metadata": {},
   "outputs": [],
   "source": []
  },
  {
   "cell_type": "markdown",
   "metadata": {},
   "source": [
    "# Transfer '.h5' model to '.pb' model"
   ]
  },
  {
   "cell_type": "code",
   "execution_count": null,
   "metadata": {},
   "outputs": [],
   "source": [
    "import tensorflow as tf\n",
    "import os\n",
    "\n",
    "from tensorflow.python.framework import graph_util\n",
    "\n",
    "from keras.models import load_model\n",
    "from keras import backend as K\n",
    "\n",
    "\n",
    "path_to_model = './model/10Inception_1117_1.h5'\n",
    "model = load_model(path_to_model)\n",
    "\n",
    "K.set_learning_phase(0)\n",
    "\n",
    "sess = K.get_session()\n",
    "output_fld = './model/'\n",
    "if not os.path.isdir(output_fld):\n",
    "    os.mkdir(output_fld)\n",
    "    \n",
    "output_graph_name =  '10Inception_1117_1.pb'\n",
    "ouputname = model.output.name\n",
    "\n",
    "constant_graph = graph_util.convert_variables_to_constants(sess, sess.graph.as_graph_def(), [ouputname[0:-2] ])\n",
    "tf.train.write_graph(constant_graph, output_fld, output_graph_name, as_text=False)\n",
    "print('saved the constant graph (ready for inference) at: ', os.path.join(output_fld, output_graph_name))\n"
   ]
  },
  {
   "cell_type": "markdown",
   "metadata": {},
   "source": [
    "# Check the scope name of  '.pb' model "
   ]
  },
  {
   "cell_type": "code",
   "execution_count": null,
   "metadata": {},
   "outputs": [],
   "source": [
    "import tensorflow as tf\n",
    "\n",
    "with tf.gfile.GFile('./model/10Inception_1117_1.pb', \"rb\") as f:  \n",
    "    graph_def = tf.GraphDef()\n",
    "    graph_def.ParseFromString(f.read())\n",
    "    \n",
    "with tf.Graph().as_default() as graph:  \n",
    "    tf.import_graph_def(graph_def, name=\"\")  \n",
    "    for op in graph.get_operations(): \n",
    "        print(op.name, )"
   ]
  }
 ],
 "metadata": {
  "anaconda-cloud": {},
  "kernelspec": {
   "display_name": "Python 3",
   "language": "python",
   "name": "python3"
  },
  "language_info": {
   "codemirror_mode": {
    "name": "ipython",
    "version": 3
   },
   "file_extension": ".py",
   "mimetype": "text/x-python",
   "name": "python",
   "nbconvert_exporter": "python",
   "pygments_lexer": "ipython3",
   "version": "3.6.7"
  },
  "notify_time": "10"
 },
 "nbformat": 4,
 "nbformat_minor": 1
}
